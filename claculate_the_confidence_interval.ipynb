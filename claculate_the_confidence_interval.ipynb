{
  "nbformat": 4,
  "nbformat_minor": 0,
  "metadata": {
    "colab": {
      "provenance": [],
      "authorship_tag": "ABX9TyM2EdwZNQWSg/pnUolfARPI",
      "include_colab_link": true
    },
    "kernelspec": {
      "name": "python3",
      "display_name": "Python 3"
    },
    "language_info": {
      "name": "python"
    }
  },
  "cells": [
    {
      "cell_type": "markdown",
      "metadata": {
        "id": "view-in-github",
        "colab_type": "text"
      },
      "source": [
        "<a href=\"https://colab.research.google.com/github/SushanthA76/React-app/blob/master/claculate_the_confidence_interval.ipynb\" target=\"_parent\"><img src=\"https://colab.research.google.com/assets/colab-badge.svg\" alt=\"Open In Colab\"/></a>"
      ]
    },
    {
      "cell_type": "code",
      "source": [
        "import numpy as np\n",
        "import scipy.stats as st\n",
        "\n",
        "data = [12, 12, 13, 13, 15, 16, 17, 22, 23, 25, 26, 27, 28, 29]\n",
        "\n",
        "# Create 95% confidence interval for population mean weight\n",
        "confidence_interval = st.t.interval(0.95, len(data)-1, loc=np.mean(data), scale=st.sem(data))\n",
        "print(confidence_interval)\n"
      ],
      "metadata": {
        "colab": {
          "base_uri": "https://localhost:8080/"
        },
        "id": "Q-PXTQx2OMvv",
        "outputId": "4df83b4d-d306-4485-a55f-b70512f53e75"
      },
      "execution_count": null,
      "outputs": [
        {
          "output_type": "stream",
          "name": "stdout",
          "text": [
            "(16.123115068003397, 23.59117064628232)\n"
          ]
        }
      ]
    },
    {
      "cell_type": "code",
      "source": [],
      "metadata": {
        "id": "RpqiSWAQU0Gf"
      },
      "execution_count": null,
      "outputs": []
    },
    {
      "cell_type": "code",
      "source": [
        "#Confidence Interval Using Normal Distribution\n",
        "import numpy as np\n",
        "import scipy.stats as st\n",
        "\n",
        "#define sample data\n",
        "np.random.seed(0)\n",
        "data=np.random.randint(10,30,50)\n",
        "\n",
        "#create 95% confidence interval for population mean weight\n",
        "confidence_interval=st.norm.interval(0.95,loc=np.mean(data),scale=st.sem(data))\n",
        "print(confidence_interval)"
      ],
      "metadata": {
        "colab": {
          "base_uri": "https://localhost:8080/"
        },
        "id": "jW-NHT5QPEnh",
        "outputId": "8041b0c9-915d-4349-e3fd-71e386956a52"
      },
      "execution_count": null,
      "outputs": [
        {
          "output_type": "stream",
          "name": "stdout",
          "text": [
            "(17.400060940568054, 21.079939059431943)\n"
          ]
        }
      ]
    },
    {
      "cell_type": "code",
      "source": [
        "import numpy as np\n",
        "import scipy.stats as st\n",
        "\n",
        "data = [12, 12, 13, 13, 15, 16, 17, 22, 23, 25, 26, 27, 28, 29]\n",
        "\n",
        "# Create 95% confidence interval for population mean weight\n",
        "confidence_interval = st.norm.interval(0.95, loc=np.mean(data), scale=st.sem(data))\n",
        "print(confidence_interval)\n"
      ],
      "metadata": {
        "colab": {
          "base_uri": "https://localhost:8080/"
        },
        "id": "ODQ-KaB8Urre",
        "outputId": "a9d299d0-746e-481b-cac7-f2591cad728a"
      },
      "execution_count": null,
      "outputs": [
        {
          "output_type": "stream",
          "name": "stdout",
          "text": [
            "(16.469498826066285, 23.24478688821943)\n"
          ]
        }
      ]
    }
  ]
}